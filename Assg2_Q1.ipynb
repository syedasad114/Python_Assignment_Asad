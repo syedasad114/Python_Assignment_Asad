{
 "cells": [
  {
   "cell_type": "code",
   "execution_count": 5,
   "metadata": {},
   "outputs": [
    {
     "name": "stdout",
     "output_type": "stream",
     "text": [
      "Enter marks of the first subject: 90\n",
      "Enter marks of the second subject: 80\n",
      "Enter marks of the third subject: 70\n",
      "Enter marks of the fourth subject: 60\n",
      "Enter marks of the fifth subject: 50\n",
      "Grade: A\n",
      "Average Score:72.0\n"
     ]
    }
   ],
   "source": [
    "sub1=int(input(\"Enter marks of the first subject: \"))\n",
    "sub2=int(input(\"Enter marks of the second subject: \"))\n",
    "sub3=int(input(\"Enter marks of the third subject: \"))\n",
    "sub4=int(input(\"Enter marks of the fourth subject: \"))\n",
    "sub5=int(input(\"Enter marks of the fifth subject: \"))\n",
    "Avg=(sub1+sub2+sub3+sub4+sub4)/5\n",
    "if(Avg>=90 or Avg<=100):\n",
    "    print(\"Grade: A\")\n",
    "elif(Avg>=80 and Avg<90):\n",
    "    print(\"Grade: B\")\n",
    "elif(Avg>=70 and Avg<80):\n",
    "    print(\"Grade: C\")\n",
    "elif(Avg>=60 and Avg<70):\n",
    "    print(\"Grade: D\")\n",
    "else:\n",
    "    print(\"Grade: F\") \n",
    "print(\"Average Score:\" + str(Avg))\n",
    "        "
   ]
  },
  {
   "cell_type": "code",
   "execution_count": null,
   "metadata": {},
   "outputs": [],
   "source": []
  }
 ],
 "metadata": {
  "kernelspec": {
   "display_name": "Python 3",
   "language": "python",
   "name": "python3"
  },
  "language_info": {
   "codemirror_mode": {
    "name": "ipython",
    "version": 3
   },
   "file_extension": ".py",
   "mimetype": "text/x-python",
   "name": "python",
   "nbconvert_exporter": "python",
   "pygments_lexer": "ipython3",
   "version": "3.7.4"
  }
 },
 "nbformat": 4,
 "nbformat_minor": 2
}
