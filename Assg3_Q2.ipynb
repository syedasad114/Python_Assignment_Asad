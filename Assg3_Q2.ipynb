{
 "cells": [
  {
   "cell_type": "code",
   "execution_count": null,
   "metadata": {},
   "outputs": [
    {
     "name": "stdout",
     "output_type": "stream",
     "text": [
      "Checking if Number exists in list : \n"
     ]
    }
   ],
   "source": [
    "test_list = [ \"A\", 6, 'C', 5, 3, 4 ] \n",
    "print(\"Checking if Number exists in list : \") \n",
    "# Checking if Number exists in list  \n",
    "# using loop \n",
    "A = int(input(\"Enter number: \"))\n",
    "for i in test_list: \n",
    "    if(i == A) : \n",
    "        print (\"Element Exists\") \n",
    "else:\n",
    "    print (\"Element Not Exists\") \n",
    "    "
   ]
  },
  {
   "cell_type": "code",
   "execution_count": null,
   "metadata": {},
   "outputs": [],
   "source": []
  }
 ],
 "metadata": {
  "kernelspec": {
   "display_name": "Python 3",
   "language": "python",
   "name": "python3"
  },
  "language_info": {
   "codemirror_mode": {
    "name": "ipython",
    "version": 3
   },
   "file_extension": ".py",
   "mimetype": "text/x-python",
   "name": "python",
   "nbconvert_exporter": "python",
   "pygments_lexer": "ipython3",
   "version": "3.7.3"
  }
 },
 "nbformat": 4,
 "nbformat_minor": 4
}
